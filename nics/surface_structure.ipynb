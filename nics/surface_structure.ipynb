{
 "cells": [
  {
   "cell_type": "code",
   "execution_count": 27,
   "metadata": {},
   "outputs": [
    {
     "name": "stdout",
     "output_type": "stream",
     "text": [
      "Warning: Cannot change to a different GUI toolkit: notebook. Using widget instead.\n"
     ]
    }
   ],
   "source": [
    "import moleculetools as mt\n",
    "from mpl_toolkits.mplot3d import Axes3D\n",
    "import matplotlib.pyplot as plt\n",
    "import numpy as np\n",
    "import math\n",
    "%matplotlib notebook"
   ]
  },
  {
   "cell_type": "code",
   "execution_count": 28,
   "metadata": {},
   "outputs": [],
   "source": [
    "from sklearn.linear_model import LinearRegression"
   ]
  },
  {
   "cell_type": "code",
   "execution_count": 29,
   "metadata": {},
   "outputs": [],
   "source": [
    "def set_axes_radius(ax, origin, radius):\n",
    "    ax.set_xlim3d([origin[0] - radius, origin[0] + radius])\n",
    "    ax.set_ylim3d([origin[1] - radius, origin[1] + radius])\n",
    "    ax.set_zlim3d([origin[2] - radius, origin[2] + radius])\n",
    "\n",
    "def set_axes_equal(ax):\n",
    "    '''Make axes of 3D plot have equal scale so that spheres appear as spheres,\n",
    "    cubes as cubes, etc..  This is one possible solution to Matplotlib's\n",
    "    ax.set_aspect('equal') and ax.axis('equal') not working for 3D.\n",
    "\n",
    "    Input\n",
    "      ax: a matplotlib axis, e.g., as output from plt.gca().\n",
    "    '''\n",
    "\n",
    "    limits = np.array([\n",
    "        ax.get_xlim3d(),\n",
    "        ax.get_ylim3d(),\n",
    "        ax.get_zlim3d(),\n",
    "    ])\n",
    "\n",
    "    origin = np.mean(limits, axis=1)\n",
    "    radius = 0.5 * np.max(np.abs(limits[:, 1] - limits[:, 0]))\n",
    "    set_axes_radius(ax, origin, radius)\n",
    "\n",
    "def build_predictors(x, y):\n",
    "    x2 = np.square(x)\n",
    "    y2 = np.square(y)\n",
    "    x4 = np.square(x2)\n",
    "    y4 = np.square(y2)\n",
    "    xy = np.multiply(x, y)\n",
    "    x2y2 = np.square(xy)\n",
    "    return np.column_stack([x, y, x2, y2, xy])\n",
    "\n",
    "def make_grid(radius=5, density=50):\n",
    "        spacing = np.linspace(-radius, radius, density)\n",
    "        X2 = np.meshgrid(spacing, spacing)\n",
    "        grid_shape = X2[0].shape\n",
    "        return np.reshape(X2, (2, -1)).T"
   ]
  },
  {
   "cell_type": "code",
   "execution_count": 31,
   "metadata": {},
   "outputs": [],
   "source": [
    "class SurfaceStructure(mt.Structure):\n",
    "    def update_relevant_coords(self):\n",
    "        self.relevant_coords = self.coords[self.atom_index_list]\n",
    "    \n",
    "    def choose_atoms(self, atom_list=None):\n",
    "        if atom_list is None:\n",
    "            atom_list = list(range(1, len(self.atoms) + 1))\n",
    "        self.atom_index_list = [index - 1 for index in atom_list]\n",
    "        self.update_relevant_coords()\n",
    "        \n",
    "    def update_geometry(self):\n",
    "        self.center = mt.find_center(self.relevant_coords)\n",
    "        self.update_relevant_coords()\n",
    "        self.main_axis = mt.find_axis(self.relevant_coords)\n",
    "        self.update_relevant_coords()\n",
    "\n",
    "    def make_surface(self, radius=5, density=50, distance=0, method='linear'):\n",
    "        if method == 'linear':\n",
    "            lr = LinearRegression(normalize=True)\n",
    "            X = build_predictors(self.relevant_coords[:,0], self.relevant_coords[:,1])\n",
    "            y = self.relevant_coords[:,2]\n",
    "            lr.fit(X, y)\n",
    "            print(lr.coef_)\n",
    "            grid = make_grid(radius=radius, density=density)\n",
    "            pred_grid = build_predictors(grid[:,0], grid[:,1])\n",
    "            preds = lr.predict(pred_grid) + distance\n",
    "            self.surface = np.column_stack((grid, preds))\n",
    "    \n",
    "    def show(self, draw_axis=True, numbering=True):\n",
    "        fig = plt.figure()\n",
    "        ax = fig.add_subplot(111, projection='3d')\n",
    "        ax.scatter(self.coords[:,0],\n",
    "                   self.coords[:,1],\n",
    "                   self.coords[:,2], marker='o', s=30, color=\"black\")\n",
    "        if numbering:\n",
    "            for i in range(self.coords.shape[0]):\n",
    "                ax.text(self.coords[i,0],\n",
    "                        self.coords[i,1],\n",
    "                        self.coords[i,2],\n",
    "                        str(i + 1))\n",
    "        if draw_axis:\n",
    "            n_points = 21\n",
    "            axis_points = np.reshape(np.linspace(-5, 5, n_points), (n_points, 1))\n",
    "            points = np.matmul(axis_points, np.reshape(self.main_axis, (1, 3))) + self.center\n",
    "            ax.scatter(points[:,0], points[:,1], points[:,2], marker='.')\n",
    "        try:\n",
    "            ax.scatter(self.surface[:,0],\n",
    "                       self.surface[:,1],\n",
    "                       self.surface[:,2],\n",
    "                       marker='.', s=5, alpha=0.5, c=self.surface[:,2], cmap=\"viridis\")\n",
    "        except:\n",
    "            pass\n",
    "        ax.set_xlabel(r'x ($\\AA$)')\n",
    "        ax.set_ylabel(r'y ($\\AA$)')\n",
    "        ax.set_zlabel(r'z ($\\AA$)')\n",
    "        set_axes_radius(ax, self.center, self.surface[:,0].max())\n",
    "        fig.savefig(\"{}_surface.png\".format(self.name), transparent=True)\n",
    "        \n",
    "    def write_gjf(self, surface=None):\n",
    "        link0 = \"# nmr=giao b3lyp/6-31G* nosymm geom=connectivity guess=huckel\"\n",
    "        with open(\"{}.gjf\".format(self.name), \"w\") as gjf:\n",
    "            gjf.write(\"{}\\n\\ninput\\n\\n0 1\\n\".format(link0))\n",
    "            for i, atom in enumerate(self.atoms):\n",
    "                gjf.write(\"{:<2}{:>14.8f}{:>14.8f}{:>14.8f}\\n\".format(atom,\n",
    "                                                                self.coords[i,0],\n",
    "                                                                self.coords[i,1],\n",
    "                                                                self.coords[i,2]))\n",
    "            if surface is not None:\n",
    "                for i in range(surface.shape[0]):\n",
    "                    gjf.write(\"{:<2}{:>14.8f}{:>14.8f}{:>14.8f}\\n\".format(\"Bq\",\n",
    "                                                                    surface[i,0],\n",
    "                                                                    surface[i,1],\n",
    "                                                                    surface[i,2]))\n",
    "                gjf.write(\"\\n\")\n",
    "                for i in range(len(self.atoms) + surface.shape[0]):\n",
    "                    gjf.write(\"{}\\n\".format(i + 1))\n",
    "            #gjf.write(\"\\n\")\n",
    "            #for i in range(len(self.atoms) + len(self.surface)):\n",
    "            #    gjf.write(\"{}\\n\".format(i + 1))"
   ]
  },
  {
   "cell_type": "code",
   "execution_count": 32,
   "metadata": {},
   "outputs": [],
   "source": [
    "class ReadSurfaceStructure(mt.Structure):\n",
    "    def split_coords(self):\n",
    "        surface_coords = []\n",
    "        atom_coords = []\n",
    "        for i, atom in enumerate(self.atoms):\n",
    "            if atom == \"Bq\":\n",
    "                surface_coords.append(self.coords[i,:])\n",
    "            else:\n",
    "                atom_coords.append(self.coords[i,:])\n",
    "        self.surface_coords = np.array(surface_coords)\n",
    "        self.atom_coords = np.array(atom_coords)\n",
    "        self.center = np.array([0, 0, 0])\n",
    "        \n",
    "    def load_nics(self, log):\n",
    "        with open(log, \"r\") as open_log:\n",
    "            log_lines = open_log.readlines()\n",
    "        isodata = -np.array([float(line.split()[4])\n",
    "                             for line in log_lines\n",
    "                             if \"Bq   Isotropic\" in line])\n",
    "        #for i, item in enumerate(isodata):\n",
    "        #    if abs(item) > 2000:\n",
    "        #        isodata[i] = item/abs(item)\n",
    "        self.isodata = isodata\n",
    "    \n",
    "    def show(self, numbering=True):\n",
    "        fig = plt.figure()\n",
    "        ax = fig.add_subplot(111, projection='3d')\n",
    "        ax.scatter(self.atom_coords[:,0],\n",
    "                   self.atom_coords[:,1],\n",
    "                   self.atom_coords[:,2], marker='o', s=30, color=\"black\")\n",
    "        if numbering:\n",
    "            for i in range(self.atom_coords.shape[0]):\n",
    "                ax.text(self.atom_coords[i,0],\n",
    "                        self.atom_coords[i,1],\n",
    "                        self.atom_coords[i,2],\n",
    "                        str(i + 1))\n",
    "        try:\n",
    "            s = ax.scatter(self.surface_coords[:,0],\n",
    "                       self.surface_coords[:,1],\n",
    "                       self.surface_coords[:,2],\n",
    "                       marker='.', s=15, alpha=1,\n",
    "                       c=self.isodata,\n",
    "                       vmin=-np.amax(abs(self.isodata)),\n",
    "                       vmax=np.amax(abs(self.isodata)),\n",
    "                       cmap=\"seismic\")\n",
    "        except:\n",
    "            pass\n",
    "        set_axes_radius(ax, self.center, self.surface_coords[:,0].max())\n",
    "        ax.set_xlabel(r'x ($\\AA$)')\n",
    "        ax.set_ylabel(r'y ($\\AA$)')\n",
    "        ax.set_zlabel(r'z ($\\AA$)')\n",
    "        fig.colorbar(s, orientation='vertical', fraction=0.03)\n",
    "        fig.savefig('temp.png', transparent=True)\n",
    "    \n",
    "    def show_2d(self, numbering=False):\n",
    "        fig = plt.figure()\n",
    "        ax = fig.add_subplot(111)\n",
    "        if numbering:\n",
    "            for i in range(self.atom_coords.shape[0]):\n",
    "                ax.text(self.atom_coords[i,0],\n",
    "                        self.atom_coords[i,1],\n",
    "                        str(i + 1))\n",
    "        #try:\n",
    "        #    s = ax.tricontourf(self.surface_coords[:,0],\n",
    "        #               self.surface_coords[:,1],\n",
    "        #               marker='.', s=15, alpha=1,\n",
    "        #               c=self.isodata,\n",
    "        #               vmin=-np.amax(abs(self.isodata)),\n",
    "        #               vmax=np.amax(abs(self.isodata)),\n",
    "        #               cmap=\"seismic\")\n",
    "\n",
    "        vmin = -np.amax(abs(self.isodata))\n",
    "        vmax = np.amax(abs(self.isodata))\n",
    "        levels = np.linspace(vmin, vmax,\n",
    "                             np.sqrt(self.surface_coords.shape[0]))\n",
    "        \n",
    "        tricontourf_ = ax.tricontourf(self.surface_coords[:,0],\n",
    "                       self.surface_coords[:,1],\n",
    "                       self.isodata, levels=levels, vmin=vmin, vmax=vmax,\n",
    "                       cmap='seismic')\n",
    "        \n",
    "        ax.scatter(self.atom_coords[:,0],\n",
    "                   self.atom_coords[:,1], marker='o', s=30, color=\"black\")\n",
    "        \n",
    "        ax.margins(0,0)\n",
    "        ax.axis(\"scaled\")\n",
    "        ax.set_xlim(np.amin(self.surface_coords[:,0]),\n",
    "                    np.amax(self.surface_coords[:,0]))\n",
    "        ax.set_ylim(np.amin(self.surface_coords[:,1]),\n",
    "                    np.amax(self.surface_coords[:,1]))\n",
    "        ax.set_xlabel(r'x ($\\AA$)')\n",
    "        ax.set_ylabel(r'y ($\\AA$)')\n",
    "        cbar = fig.colorbar(tricontourf_,\n",
    "                            orientation='vertical',\n",
    "                            fraction=0.03,\n",
    "                            extend='both', label=\"NICS (ppm)\",\n",
    "                            ticks=[math.ceil(vmin), 0, math.floor(vmax)])\n",
    "        plt.tight_layout()\n",
    "        fig.savefig(\"{}.png\".format(self.name), transparent=True)"
   ]
  },
  {
   "cell_type": "code",
   "execution_count": 33,
   "metadata": {},
   "outputs": [
    {
     "name": "stdout",
     "output_type": "stream",
     "text": [
      "Molecule instantiated!\n",
      "\n"
     ]
    },
    {
     "data": {
      "application/vnd.jupyter.widget-view+json": {
       "model_id": "9bc232089a824599919a62f486140c54",
       "version_major": 2,
       "version_minor": 0
      },
      "text/plain": [
       "Canvas(toolbar=Toolbar(toolitems=[('Home', 'Reset original view', 'home', 'home'), ('Back', 'Back to previous …"
      ]
     },
     "metadata": {},
     "output_type": "display_data"
    }
   ],
   "source": [
    "atoms, coords = mt.read_log(\"examples/benzene/benzene.log\")\n",
    "solved = ReadSurfaceStructure(atoms, coords, name=\"benzene\")\n",
    "solved.split_coords()\n",
    "solved.load_nics(\"examples/benzene/benzene.log\")\n",
    "solved.show(numbering=False)"
   ]
  },
  {
   "cell_type": "code",
   "execution_count": 26,
   "metadata": {},
   "outputs": [
    {
     "name": "stdout",
     "output_type": "stream",
     "text": [
      "Molecule instantiated!\n",
      "\n",
      "[-0.18182153  0.12718157  0.0056924  -0.00413169 -0.10770637]\n"
     ]
    },
    {
     "data": {
      "application/vnd.jupyter.widget-view+json": {
       "model_id": "",
       "version_major": 2,
       "version_minor": 0
      },
      "text/plain": [
       "Canvas(toolbar=Toolbar(toolitems=[('Home', 'Reset original view', 'home', 'home'), ('Back', 'Back to previous …"
      ]
     },
     "metadata": {},
     "output_type": "display_data"
    }
   ],
   "source": [
    "els, coords = mt.read_xyz(\"./examples/pn10/pn10.xyz\")\n",
    "system = SurfaceStructure(els, coords, name=\"pn10\")\n",
    "system.choose_atoms()\n",
    "system.translate_to_center()\n",
    "system.rotate_to_z()\n",
    "\n",
    "#system.choose_atoms(list(range(1, 11)))\n",
    "system.choose_atoms()\n",
    "system.make_surface(distance=1)\n",
    "system.show()"
   ]
  },
  {
   "cell_type": "code",
   "execution_count": 35,
   "metadata": {},
   "outputs": [
    {
     "name": "stdout",
     "output_type": "stream",
     "text": [
      "Molecule instantiated!\n",
      "\n"
     ]
    },
    {
     "data": {
      "application/vnd.jupyter.widget-view+json": {
       "model_id": "1237c101a6354a5c9d95efd8274b5032",
       "version_major": 2,
       "version_minor": 0
      },
      "text/plain": [
       "Canvas(toolbar=Toolbar(toolitems=[('Home', 'Reset original view', 'home', 'home'), ('Back', 'Back to previous …"
      ]
     },
     "metadata": {},
     "output_type": "display_data"
    }
   ],
   "source": [
    "atoms, coords = mt.read_log(\"examples/asn10/asn10.log\")\n",
    "solved = ReadSurfaceStructure(atoms, coords, name=\"asn10\")\n",
    "solved.split_coords()\n",
    "solved.load_nics(\"examples/asn10/asn10.log\")\n",
    "solved.show(numbering=False)"
   ]
  },
  {
   "cell_type": "code",
   "execution_count": 39,
   "metadata": {},
   "outputs": [
    {
     "name": "stdout",
     "output_type": "stream",
     "text": [
      "Molecule instantiated!\n",
      "\n",
      "[0. 0. 0. 0. 0.]\n"
     ]
    },
    {
     "name": "stderr",
     "output_type": "stream",
     "text": [
      "/Users/oscar/git/gaussiantools/nics/moleculetools.py:10: RuntimeWarning: invalid value encountered in true_divide\n",
      "  return vector/np.linalg.norm(vector)\n"
     ]
    },
    {
     "data": {
      "application/vnd.jupyter.widget-view+json": {
       "model_id": "3a85363826834437a0f81e7b02084dfa",
       "version_major": 2,
       "version_minor": 0
      },
      "text/plain": [
       "Canvas(toolbar=Toolbar(toolitems=[('Home', 'Reset original view', 'home', 'home'), ('Back', 'Back to previous …"
      ]
     },
     "metadata": {},
     "output_type": "display_data"
    }
   ],
   "source": [
    "els, coords = mt.read_xyz(\"examples/benzene/benzene.xyz\")\n",
    "system = SurfaceStructure(els, coords, name=\"benzene\")\n",
    "system.choose_atoms()\n",
    "system.translate_to_center()\n",
    "\n",
    "system.make_surface(radius=3, distance=1)\n",
    "system.write_gjf(system.surface)\n",
    "system.show(numbering=False)"
   ]
  },
  {
   "cell_type": "code",
   "execution_count": null,
   "metadata": {},
   "outputs": [],
   "source": [
    "els, coords = mt.read_xyz(\"stx.xyz\")\n",
    "stx = SurfaceStructure(els, coords, name='stx')\n",
    "stx.choose_atoms([1, 2, 3, 4, 5, 6, 8, 9, 10])\n",
    "stx.translate_to_center()\n",
    "stx.rotate_to_z()\n",
    "\n",
    "stx.make_surface()\n",
    "stx.show()"
   ]
  }
 ],
 "metadata": {
  "kernelspec": {
   "display_name": "Python 3",
   "language": "python",
   "name": "python3"
  },
  "language_info": {
   "codemirror_mode": {
    "name": "ipython",
    "version": 3
   },
   "file_extension": ".py",
   "mimetype": "text/x-python",
   "name": "python",
   "nbconvert_exporter": "python",
   "pygments_lexer": "ipython3",
   "version": "3.7.3"
  }
 },
 "nbformat": 4,
 "nbformat_minor": 4
}
