{
 "cells": [
  {
   "cell_type": "code",
   "execution_count": 4,
   "metadata": {
    "ExecuteTime": {
     "end_time": "2019-06-13T15:39:03.290844Z",
     "start_time": "2019-06-13T15:39:02.198466Z"
    }
   },
   "outputs": [],
   "source": [
    "import numpy as np\n",
    "import pandas as pd\n",
    "import matplotlib.pyplot as plt\n",
    "import seaborn as sns\n",
    "%matplotlib inline"
   ]
  },
  {
   "cell_type": "code",
   "execution_count": 11,
   "metadata": {
    "ExecuteTime": {
     "end_time": "2019-06-13T15:41:18.116145Z",
     "start_time": "2019-06-13T15:41:18.077276Z"
    }
   },
   "outputs": [
    {
     "data": {
      "text/html": [
       "<div>\n",
       "<style scoped>\n",
       "    .dataframe tbody tr th:only-of-type {\n",
       "        vertical-align: middle;\n",
       "    }\n",
       "\n",
       "    .dataframe tbody tr th {\n",
       "        vertical-align: top;\n",
       "    }\n",
       "\n",
       "    .dataframe thead th {\n",
       "        text-align: right;\n",
       "    }\n",
       "</style>\n",
       "<table border=\"1\" class=\"dataframe\">\n",
       "  <thead>\n",
       "    <tr style=\"text-align: right;\">\n",
       "      <th></th>\n",
       "      <th>Wn</th>\n",
       "      <th>Mol%</th>\n",
       "      <th>Sur%</th>\n",
       "      <th>Mix%</th>\n",
       "    </tr>\n",
       "    <tr>\n",
       "      <th>Mode</th>\n",
       "      <th></th>\n",
       "      <th></th>\n",
       "      <th></th>\n",
       "      <th></th>\n",
       "    </tr>\n",
       "  </thead>\n",
       "  <tbody>\n",
       "    <tr>\n",
       "      <th>1</th>\n",
       "      <td>34.1375</td>\n",
       "      <td>41.872562</td>\n",
       "      <td>34.330299</td>\n",
       "      <td>23.797139</td>\n",
       "    </tr>\n",
       "    <tr>\n",
       "      <th>2</th>\n",
       "      <td>36.1098</td>\n",
       "      <td>14.267016</td>\n",
       "      <td>6.937173</td>\n",
       "      <td>78.795812</td>\n",
       "    </tr>\n",
       "    <tr>\n",
       "      <th>3</th>\n",
       "      <td>51.0604</td>\n",
       "      <td>21.401274</td>\n",
       "      <td>17.834395</td>\n",
       "      <td>60.764331</td>\n",
       "    </tr>\n",
       "    <tr>\n",
       "      <th>4</th>\n",
       "      <td>73.6132</td>\n",
       "      <td>19.024970</td>\n",
       "      <td>53.864447</td>\n",
       "      <td>27.110583</td>\n",
       "    </tr>\n",
       "    <tr>\n",
       "      <th>5</th>\n",
       "      <td>78.4098</td>\n",
       "      <td>38.978829</td>\n",
       "      <td>21.295143</td>\n",
       "      <td>39.726027</td>\n",
       "    </tr>\n",
       "  </tbody>\n",
       "</table>\n",
       "</div>"
      ],
      "text/plain": [
       "           Wn       Mol%       Sur%       Mix%\n",
       "Mode                                          \n",
       "1     34.1375  41.872562  34.330299  23.797139\n",
       "2     36.1098  14.267016   6.937173  78.795812\n",
       "3     51.0604  21.401274  17.834395  60.764331\n",
       "4     73.6132  19.024970  53.864447  27.110583\n",
       "5     78.4098  38.978829  21.295143  39.726027"
      ]
     },
     "execution_count": 11,
     "metadata": {},
     "output_type": "execute_result"
    }
   ],
   "source": [
    "df = pd.read_csv('intmodes_TEST.csv')\n",
    "df.set_index('Mode', inplace=True)\n",
    "df.head()"
   ]
  },
  {
   "cell_type": "code",
   "execution_count": 19,
   "metadata": {
    "ExecuteTime": {
     "end_time": "2019-06-13T15:46:43.010182Z",
     "start_time": "2019-06-13T15:46:42.105399Z"
    }
   },
   "outputs": [
    {
     "data": {
      "text/plain": [
       "<matplotlib.axes._subplots.AxesSubplot at 0x1a204c8da0>"
      ]
     },
     "execution_count": 19,
     "metadata": {},
     "output_type": "execute_result"
    },
    {
     "data": {
      "image/png": "[encoded data removed]",
      "text/plain": [
       "<Figure size 1152x864 with 2 Axes>"
      ]
     },
     "metadata": {
      "needs_background": "light"
     },
     "output_type": "display_data"
    }
   ],
   "source": [
    "plt.figure(figsize=(16,12))\n",
    "sns.heatmap(data=df[df['Wn'].between(1000, 1800)].drop('Wn', axis=1), vmin=0, vmax=100, cmap='magma')"
   ]
  },
  {
   "cell_type": "code",
   "execution_count": 64,
   "metadata": {
    "ExecuteTime": {
     "end_time": "2019-06-13T16:16:18.047979Z",
     "start_time": "2019-06-13T16:16:17.989609Z"
    }
   },
   "outputs": [
    {
     "data": {
      "text/html": [
       "<div>\n",
       "<style scoped>\n",
       "    .dataframe tbody tr th:only-of-type {\n",
       "        vertical-align: middle;\n",
       "    }\n",
       "\n",
       "    .dataframe tbody tr th {\n",
       "        vertical-align: top;\n",
       "    }\n",
       "\n",
       "    .dataframe thead th {\n",
       "        text-align: right;\n",
       "    }\n",
       "</style>\n",
       "<table border=\"1\" class=\"dataframe\">\n",
       "  <thead>\n",
       "    <tr style=\"text-align: right;\">\n",
       "      <th></th>\n",
       "      <th>mode</th>\n",
       "      <th>wn</th>\n",
       "      <th>SL</th>\n",
       "      <th>123</th>\n",
       "      <th>125</th>\n",
       "      <th>157</th>\n",
       "      <th>160</th>\n",
       "      <th>171</th>\n",
       "      <th>176</th>\n",
       "      <th>177</th>\n",
       "    </tr>\n",
       "    <tr>\n",
       "      <th>mode-index</th>\n",
       "      <th></th>\n",
       "      <th></th>\n",
       "      <th></th>\n",
       "      <th></th>\n",
       "      <th></th>\n",
       "      <th></th>\n",
       "      <th></th>\n",
       "      <th></th>\n",
       "      <th></th>\n",
       "      <th></th>\n",
       "    </tr>\n",
       "  </thead>\n",
       "  <tbody>\n",
       "    <tr>\n",
       "      <th>64</th>\n",
       "      <td>A</td>\n",
       "      <td>1166.7</td>\n",
       "      <td>1.31</td>\n",
       "      <td>2.041249e+06</td>\n",
       "      <td>0.000</td>\n",
       "      <td>150884.3809</td>\n",
       "      <td>1.923373e+05</td>\n",
       "      <td>282160.0254</td>\n",
       "      <td>4.991146e+05</td>\n",
       "      <td>0.000</td>\n",
       "    </tr>\n",
       "    <tr>\n",
       "      <th>67</th>\n",
       "      <td>B</td>\n",
       "      <td>1240.5</td>\n",
       "      <td>1.53</td>\n",
       "      <td>7.241208e+06</td>\n",
       "      <td>0.000</td>\n",
       "      <td>404516.0500</td>\n",
       "      <td>5.729985e+05</td>\n",
       "      <td>487583.9574</td>\n",
       "      <td>1.546250e+06</td>\n",
       "      <td>9898062.614</td>\n",
       "    </tr>\n",
       "    <tr>\n",
       "      <th>76</th>\n",
       "      <td>C</td>\n",
       "      <td>1376.6</td>\n",
       "      <td>6.86</td>\n",
       "      <td>1.146700e+06</td>\n",
       "      <td>0.000</td>\n",
       "      <td>190856.9439</td>\n",
       "      <td>4.720453e+05</td>\n",
       "      <td>347338.8360</td>\n",
       "      <td>3.765309e+06</td>\n",
       "      <td>0.000</td>\n",
       "    </tr>\n",
       "    <tr>\n",
       "      <th>85</th>\n",
       "      <td>D</td>\n",
       "      <td>1496.4</td>\n",
       "      <td>6.59</td>\n",
       "      <td>7.040555e+05</td>\n",
       "      <td>8649973.159</td>\n",
       "      <td>76133.8699</td>\n",
       "      <td>1.006222e+05</td>\n",
       "      <td>17151.4045</td>\n",
       "      <td>1.769879e+05</td>\n",
       "      <td>2839383.219</td>\n",
       "    </tr>\n",
       "    <tr>\n",
       "      <th>88</th>\n",
       "      <td>E</td>\n",
       "      <td>1595.8</td>\n",
       "      <td>4.09</td>\n",
       "      <td>3.046622e+06</td>\n",
       "      <td>1417001.010</td>\n",
       "      <td>387698.6752</td>\n",
       "      <td>2.305114e+06</td>\n",
       "      <td>27443.6674</td>\n",
       "      <td>9.349946e+04</td>\n",
       "      <td>3426710.542</td>\n",
       "    </tr>\n",
       "  </tbody>\n",
       "</table>\n",
       "</div>"
      ],
      "text/plain": [
       "           mode      wn    SL           123          125          157  \\\n",
       "mode-index                                                              \n",
       "64            A  1166.7  1.31  2.041249e+06        0.000  150884.3809   \n",
       "67            B  1240.5  1.53  7.241208e+06        0.000  404516.0500   \n",
       "76            C  1376.6  6.86  1.146700e+06        0.000  190856.9439   \n",
       "85            D  1496.4  6.59  7.040555e+05  8649973.159   76133.8699   \n",
       "88            E  1595.8  4.09  3.046622e+06  1417001.010  387698.6752   \n",
       "\n",
       "                     160          171           176          177  \n",
       "mode-index                                                        \n",
       "64          1.923373e+05  282160.0254  4.991146e+05        0.000  \n",
       "67          5.729985e+05  487583.9574  1.546250e+06  9898062.614  \n",
       "76          4.720453e+05  347338.8360  3.765309e+06        0.000  \n",
       "85          1.006222e+05   17151.4045  1.769879e+05  2839383.219  \n",
       "88          2.305114e+06   27443.6674  9.349946e+04  3426710.542  "
      ]
     },
     "execution_count": 64,
     "metadata": {},
     "output_type": "execute_result"
    }
   ],
   "source": [
    "stx = pd.read_excel('stx.xlsx')\n",
    "stx.set_index('mode-index', inplace=True)\n",
    "stx.head()"
   ]
  },
  {
   "cell_type": "code",
   "execution_count": 89,
   "metadata": {
    "ExecuteTime": {
     "end_time": "2019-06-13T16:20:40.591512Z",
     "start_time": "2019-06-13T16:20:40.551128Z"
    }
   },
   "outputs": [
    {
     "name": "stderr",
     "output_type": "stream",
     "text": [
      "/anaconda3/lib/python3.7/site-packages/ipykernel_launcher.py:1: RuntimeWarning: divide by zero encountered in log10\n",
      "  \"\"\"Entry point for launching an IPython kernel.\n"
     ]
    },
    {
     "data": {
      "text/html": [
       "<div>\n",
       "<style scoped>\n",
       "    .dataframe tbody tr th:only-of-type {\n",
       "        vertical-align: middle;\n",
       "    }\n",
       "\n",
       "    .dataframe tbody tr th {\n",
       "        vertical-align: top;\n",
       "    }\n",
       "\n",
       "    .dataframe thead th {\n",
       "        text-align: right;\n",
       "    }\n",
       "</style>\n",
       "<table border=\"1\" class=\"dataframe\">\n",
       "  <thead>\n",
       "    <tr style=\"text-align: right;\">\n",
       "      <th></th>\n",
       "      <th>123</th>\n",
       "      <th>125</th>\n",
       "      <th>157</th>\n",
       "      <th>160</th>\n",
       "      <th>171</th>\n",
       "      <th>176</th>\n",
       "      <th>177</th>\n",
       "    </tr>\n",
       "    <tr>\n",
       "      <th>mode-index</th>\n",
       "      <th></th>\n",
       "      <th></th>\n",
       "      <th></th>\n",
       "      <th></th>\n",
       "      <th></th>\n",
       "      <th></th>\n",
       "      <th></th>\n",
       "    </tr>\n",
       "  </thead>\n",
       "  <tbody>\n",
       "    <tr>\n",
       "      <th>64</th>\n",
       "      <td>6.192625</td>\n",
       "      <td>0.000000</td>\n",
       "      <td>5.061373</td>\n",
       "      <td>5.166792</td>\n",
       "      <td>5.333224</td>\n",
       "      <td>5.580929</td>\n",
       "      <td>0.000000</td>\n",
       "    </tr>\n",
       "    <tr>\n",
       "      <th>67</th>\n",
       "      <td>6.675120</td>\n",
       "      <td>0.000000</td>\n",
       "      <td>5.422244</td>\n",
       "      <td>5.573462</td>\n",
       "      <td>5.503358</td>\n",
       "      <td>6.004588</td>\n",
       "      <td>6.810859</td>\n",
       "    </tr>\n",
       "    <tr>\n",
       "      <th>76</th>\n",
       "      <td>5.223126</td>\n",
       "      <td>0.000000</td>\n",
       "      <td>4.444384</td>\n",
       "      <td>4.837660</td>\n",
       "      <td>4.704429</td>\n",
       "      <td>5.739477</td>\n",
       "      <td>0.000000</td>\n",
       "    </tr>\n",
       "    <tr>\n",
       "      <th>85</th>\n",
       "      <td>5.028721</td>\n",
       "      <td>6.118129</td>\n",
       "      <td>4.062692</td>\n",
       "      <td>4.183809</td>\n",
       "      <td>3.415414</td>\n",
       "      <td>4.429058</td>\n",
       "      <td>5.634339</td>\n",
       "    </tr>\n",
       "    <tr>\n",
       "      <th>88</th>\n",
       "      <td>5.872095</td>\n",
       "      <td>5.539647</td>\n",
       "      <td>4.976771</td>\n",
       "      <td>5.750969</td>\n",
       "      <td>3.826719</td>\n",
       "      <td>4.359086</td>\n",
       "      <td>5.923154</td>\n",
       "    </tr>\n",
       "    <tr>\n",
       "      <th>90</th>\n",
       "      <td>0.000000</td>\n",
       "      <td>0.000000</td>\n",
       "      <td>6.127792</td>\n",
       "      <td>6.963600</td>\n",
       "      <td>4.361501</td>\n",
       "      <td>4.247604</td>\n",
       "      <td>0.000000</td>\n",
       "    </tr>\n",
       "    <tr>\n",
       "      <th>91</th>\n",
       "      <td>6.230659</td>\n",
       "      <td>0.000000</td>\n",
       "      <td>5.998395</td>\n",
       "      <td>5.835911</td>\n",
       "      <td>4.342256</td>\n",
       "      <td>5.836201</td>\n",
       "      <td>6.285971</td>\n",
       "    </tr>\n",
       "    <tr>\n",
       "      <th>94</th>\n",
       "      <td>6.039078</td>\n",
       "      <td>0.000000</td>\n",
       "      <td>6.269571</td>\n",
       "      <td>5.560252</td>\n",
       "      <td>5.066883</td>\n",
       "      <td>6.571542</td>\n",
       "      <td>0.000000</td>\n",
       "    </tr>\n",
       "    <tr>\n",
       "      <th>95</th>\n",
       "      <td>5.891660</td>\n",
       "      <td>0.000000</td>\n",
       "      <td>4.369309</td>\n",
       "      <td>3.796989</td>\n",
       "      <td>4.756103</td>\n",
       "      <td>5.302527</td>\n",
       "      <td>0.000000</td>\n",
       "    </tr>\n",
       "    <tr>\n",
       "      <th>105</th>\n",
       "      <td>0.000000</td>\n",
       "      <td>0.000000</td>\n",
       "      <td>3.986113</td>\n",
       "      <td>3.179308</td>\n",
       "      <td>3.296747</td>\n",
       "      <td>4.328510</td>\n",
       "      <td>0.000000</td>\n",
       "    </tr>\n",
       "    <tr>\n",
       "      <th>106</th>\n",
       "      <td>0.000000</td>\n",
       "      <td>0.000000</td>\n",
       "      <td>3.379538</td>\n",
       "      <td>2.996516</td>\n",
       "      <td>3.459819</td>\n",
       "      <td>4.138881</td>\n",
       "      <td>4.815651</td>\n",
       "    </tr>\n",
       "    <tr>\n",
       "      <th>109</th>\n",
       "      <td>0.000000</td>\n",
       "      <td>0.000000</td>\n",
       "      <td>5.113954</td>\n",
       "      <td>4.564926</td>\n",
       "      <td>3.238770</td>\n",
       "      <td>4.140841</td>\n",
       "      <td>4.116149</td>\n",
       "    </tr>\n",
       "    <tr>\n",
       "      <th>108</th>\n",
       "      <td>0.000000</td>\n",
       "      <td>0.000000</td>\n",
       "      <td>0.000000</td>\n",
       "      <td>0.000000</td>\n",
       "      <td>3.238280</td>\n",
       "      <td>3.107648</td>\n",
       "      <td>0.000000</td>\n",
       "    </tr>\n",
       "    <tr>\n",
       "      <th>107</th>\n",
       "      <td>0.000000</td>\n",
       "      <td>0.000000</td>\n",
       "      <td>3.822119</td>\n",
       "      <td>2.944034</td>\n",
       "      <td>1.099776</td>\n",
       "      <td>1.880227</td>\n",
       "      <td>0.000000</td>\n",
       "    </tr>\n",
       "    <tr>\n",
       "      <th>113</th>\n",
       "      <td>4.326007</td>\n",
       "      <td>0.000000</td>\n",
       "      <td>2.113724</td>\n",
       "      <td>2.284713</td>\n",
       "      <td>1.694929</td>\n",
       "      <td>1.913379</td>\n",
       "      <td>4.609891</td>\n",
       "    </tr>\n",
       "  </tbody>\n",
       "</table>\n",
       "</div>"
      ],
      "text/plain": [
       "                 123       125       157       160       171       176  \\\n",
       "mode-index                                                               \n",
       "64          6.192625  0.000000  5.061373  5.166792  5.333224  5.580929   \n",
       "67          6.675120  0.000000  5.422244  5.573462  5.503358  6.004588   \n",
       "76          5.223126  0.000000  4.444384  4.837660  4.704429  5.739477   \n",
       "85          5.028721  6.118129  4.062692  4.183809  3.415414  4.429058   \n",
       "88          5.872095  5.539647  4.976771  5.750969  3.826719  4.359086   \n",
       "90          0.000000  0.000000  6.127792  6.963600  4.361501  4.247604   \n",
       "91          6.230659  0.000000  5.998395  5.835911  4.342256  5.836201   \n",
       "94          6.039078  0.000000  6.269571  5.560252  5.066883  6.571542   \n",
       "95          5.891660  0.000000  4.369309  3.796989  4.756103  5.302527   \n",
       "105         0.000000  0.000000  3.986113  3.179308  3.296747  4.328510   \n",
       "106         0.000000  0.000000  3.379538  2.996516  3.459819  4.138881   \n",
       "109         0.000000  0.000000  5.113954  4.564926  3.238770  4.140841   \n",
       "108         0.000000  0.000000  0.000000  0.000000  3.238280  3.107648   \n",
       "107         0.000000  0.000000  3.822119  2.944034  1.099776  1.880227   \n",
       "113         4.326007  0.000000  2.113724  2.284713  1.694929  1.913379   \n",
       "\n",
       "                 177  \n",
       "mode-index            \n",
       "64          0.000000  \n",
       "67          6.810859  \n",
       "76          0.000000  \n",
       "85          5.634339  \n",
       "88          5.923154  \n",
       "90          0.000000  \n",
       "91          6.285971  \n",
       "94          0.000000  \n",
       "95          0.000000  \n",
       "105         0.000000  \n",
       "106         4.815651  \n",
       "109         4.116149  \n",
       "108         0.000000  \n",
       "107         0.000000  \n",
       "113         4.609891  "
      ]
     },
     "execution_count": 89,
     "metadata": {},
     "output_type": "execute_result"
    }
   ],
   "source": [
    "ef = stx[[123, 125, 157, 160, 171, 176, 177]].apply(lambda x:np.log10(x/stx['SL']))\n",
    "ef.replace(-np.inf, 0, inplace=True)\n",
    "ef"
   ]
  },
  {
   "cell_type": "code",
   "execution_count": 91,
   "metadata": {
    "ExecuteTime": {
     "end_time": "2019-06-13T16:20:55.211272Z",
     "start_time": "2019-06-13T16:20:54.231280Z"
    }
   },
   "outputs": [
    {
     "data": {
      "text/plain": [
       "<matplotlib.axes._subplots.AxesSubplot at 0x1a23914dd8>"
      ]
     },
     "execution_count": 91,
     "metadata": {},
     "output_type": "execute_result"
    },
    {
     "data": {
      "image/png": "[encoded data removed]",
      "text/plain": [
       "<Figure size 864x720 with 2 Axes>"
      ]
     },
     "metadata": {
      "needs_background": "light"
     },
     "output_type": "display_data"
    }
   ],
   "source": [
    "plt.figure(figsize=(12,10))\n",
    "sns.heatmap(data=ef, annot=True, cmap='magma')"
   ]
  },
  {
   "cell_type": "code",
   "execution_count": 191,
   "metadata": {
    "ExecuteTime": {
     "end_time": "2019-06-13T20:06:14.389866Z",
     "start_time": "2019-06-13T20:06:14.360457Z"
    }
   },
   "outputs": [
    {
     "data": {
      "text/html": [
       "<div>\n",
       "<style scoped>\n",
       "    .dataframe tbody tr th:only-of-type {\n",
       "        vertical-align: middle;\n",
       "    }\n",
       "\n",
       "    .dataframe tbody tr th {\n",
       "        vertical-align: top;\n",
       "    }\n",
       "\n",
       "    .dataframe thead th {\n",
       "        text-align: right;\n",
       "    }\n",
       "</style>\n",
       "<table border=\"1\" class=\"dataframe\">\n",
       "  <thead>\n",
       "    <tr style=\"text-align: right;\">\n",
       "      <th></th>\n",
       "      <th>Wn</th>\n",
       "      <th>Mol%</th>\n",
       "      <th>Sur%</th>\n",
       "      <th>Mix%</th>\n",
       "    </tr>\n",
       "    <tr>\n",
       "      <th>mode</th>\n",
       "      <th></th>\n",
       "      <th></th>\n",
       "      <th></th>\n",
       "      <th></th>\n",
       "    </tr>\n",
       "  </thead>\n",
       "  <tbody>\n",
       "    <tr>\n",
       "      <th>1</th>\n",
       "      <td>0.000000</td>\n",
       "      <td>89.258999</td>\n",
       "      <td>8.826128</td>\n",
       "      <td>1.914872</td>\n",
       "    </tr>\n",
       "    <tr>\n",
       "      <th>2</th>\n",
       "      <td>40.404040</td>\n",
       "      <td>86.133535</td>\n",
       "      <td>7.573422</td>\n",
       "      <td>6.293043</td>\n",
       "    </tr>\n",
       "    <tr>\n",
       "      <th>3</th>\n",
       "      <td>80.808081</td>\n",
       "      <td>81.017958</td>\n",
       "      <td>15.073506</td>\n",
       "      <td>3.908536</td>\n",
       "    </tr>\n",
       "    <tr>\n",
       "      <th>4</th>\n",
       "      <td>121.212121</td>\n",
       "      <td>53.708822</td>\n",
       "      <td>22.293245</td>\n",
       "      <td>23.997933</td>\n",
       "    </tr>\n",
       "    <tr>\n",
       "      <th>5</th>\n",
       "      <td>161.616162</td>\n",
       "      <td>95.673681</td>\n",
       "      <td>1.544781</td>\n",
       "      <td>2.781538</td>\n",
       "    </tr>\n",
       "  </tbody>\n",
       "</table>\n",
       "</div>"
      ],
      "text/plain": [
       "              Wn       Mol%       Sur%       Mix%\n",
       "mode                                             \n",
       "1       0.000000  89.258999   8.826128   1.914872\n",
       "2      40.404040  86.133535   7.573422   6.293043\n",
       "3      80.808081  81.017958  15.073506   3.908536\n",
       "4     121.212121  53.708822  22.293245  23.997933\n",
       "5     161.616162  95.673681   1.544781   2.781538"
      ]
     },
     "execution_count": 191,
     "metadata": {},
     "output_type": "execute_result"
    }
   ],
   "source": [
    "fakedf = pd.DataFrame(index=np.arange(1, 101))\n",
    "fakedf.index.name = 'mode'\n",
    "fakedf['Wn'] = np.linspace(0, 4000, 100)\n",
    "fakedf['Mol%'] = np.abs(np.random.rand(100))*70 + 30\n",
    "fakedf['Sur%'] = fakedf['Mol%'].apply(lambda x:(100 - x)*np.random.rand())\n",
    "fakedf['Mix%'] = 100 - (fakedf['Mol%'] + fakedf['Sur%'])\n",
    "fakedf.head()"
   ]
  },
  {
   "cell_type": "code",
   "execution_count": 192,
   "metadata": {
    "ExecuteTime": {
     "end_time": "2019-06-13T20:06:15.555521Z",
     "start_time": "2019-06-13T20:06:14.629467Z"
    }
   },
   "outputs": [
    {
     "data": {
      "text/plain": [
       "<matplotlib.axes._subplots.AxesSubplot at 0x1a2c640518>"
      ]
     },
     "execution_count": 192,
     "metadata": {},
     "output_type": "execute_result"
    },
    {
     "data": {
      "image/png": "[encoded data removed]",
      "text/plain": [
       "<Figure size 1080x864 with 2 Axes>"
      ]
     },
     "metadata": {
      "needs_background": "light"
     },
     "output_type": "display_data"
    }
   ],
   "source": [
    "plt.figure(figsize=(15, 12))\n",
    "sns.heatmap(fakedf.drop('Wn', axis=1), vmax=100, vmin=0)"
   ]
  },
  {
   "cell_type": "code",
   "execution_count": 193,
   "metadata": {
    "ExecuteTime": {
     "end_time": "2019-06-13T20:06:15.574507Z",
     "start_time": "2019-06-13T20:06:15.558839Z"
    }
   },
   "outputs": [
    {
     "data": {
      "text/html": [
       "<div>\n",
       "<style scoped>\n",
       "    .dataframe tbody tr th:only-of-type {\n",
       "        vertical-align: middle;\n",
       "    }\n",
       "\n",
       "    .dataframe tbody tr th {\n",
       "        vertical-align: top;\n",
       "    }\n",
       "\n",
       "    .dataframe thead th {\n",
       "        text-align: right;\n",
       "    }\n",
       "</style>\n",
       "<table border=\"1\" class=\"dataframe\">\n",
       "  <thead>\n",
       "    <tr style=\"text-align: right;\">\n",
       "      <th></th>\n",
       "      <th>Intensity</th>\n",
       "    </tr>\n",
       "  </thead>\n",
       "  <tbody>\n",
       "    <tr>\n",
       "      <th>0</th>\n",
       "      <td>13811.948</td>\n",
       "    </tr>\n",
       "    <tr>\n",
       "      <th>1</th>\n",
       "      <td>24726.305</td>\n",
       "    </tr>\n",
       "    <tr>\n",
       "      <th>2</th>\n",
       "      <td>115083.808</td>\n",
       "    </tr>\n",
       "    <tr>\n",
       "      <th>3</th>\n",
       "      <td>29714.664</td>\n",
       "    </tr>\n",
       "    <tr>\n",
       "      <th>4</th>\n",
       "      <td>34584.149</td>\n",
       "    </tr>\n",
       "  </tbody>\n",
       "</table>\n",
       "</div>"
      ],
      "text/plain": [
       "    Intensity\n",
       "0   13811.948\n",
       "1   24726.305\n",
       "2  115083.808\n",
       "3   29714.664\n",
       "4   34584.149"
      ]
     },
     "execution_count": 193,
     "metadata": {},
     "output_type": "execute_result"
    }
   ],
   "source": [
    "fakespec = pd.read_csv('fake-spectrum.csv')\n",
    "fakespec.head()"
   ]
  },
  {
   "cell_type": "code",
   "execution_count": 203,
   "metadata": {
    "ExecuteTime": {
     "end_time": "2019-06-13T20:07:59.011927Z",
     "start_time": "2019-06-13T20:07:58.961596Z"
    }
   },
   "outputs": [
    {
     "data": {
      "text/html": [
       "<div>\n",
       "<style scoped>\n",
       "    .dataframe tbody tr th:only-of-type {\n",
       "        vertical-align: middle;\n",
       "    }\n",
       "\n",
       "    .dataframe tbody tr th {\n",
       "        vertical-align: top;\n",
       "    }\n",
       "\n",
       "    .dataframe thead th {\n",
       "        text-align: right;\n",
       "    }\n",
       "</style>\n",
       "<table border=\"1\" class=\"dataframe\">\n",
       "  <thead>\n",
       "    <tr style=\"text-align: right;\">\n",
       "      <th></th>\n",
       "      <th>Wn</th>\n",
       "      <th>Mol%</th>\n",
       "      <th>Sur%</th>\n",
       "      <th>Mix%</th>\n",
       "      <th>400 nm</th>\n",
       "      <th>405 nm</th>\n",
       "      <th>410 nm</th>\n",
       "      <th>415 nm</th>\n",
       "      <th>420 nm</th>\n",
       "      <th>425 nm</th>\n",
       "      <th>...</th>\n",
       "      <th>555 nm</th>\n",
       "      <th>560 nm</th>\n",
       "      <th>565 nm</th>\n",
       "      <th>570 nm</th>\n",
       "      <th>575 nm</th>\n",
       "      <th>580 nm</th>\n",
       "      <th>585 nm</th>\n",
       "      <th>590 nm</th>\n",
       "      <th>595 nm</th>\n",
       "      <th>600 nm</th>\n",
       "    </tr>\n",
       "    <tr>\n",
       "      <th>mode</th>\n",
       "      <th></th>\n",
       "      <th></th>\n",
       "      <th></th>\n",
       "      <th></th>\n",
       "      <th></th>\n",
       "      <th></th>\n",
       "      <th></th>\n",
       "      <th></th>\n",
       "      <th></th>\n",
       "      <th></th>\n",
       "      <th></th>\n",
       "      <th></th>\n",
       "      <th></th>\n",
       "      <th></th>\n",
       "      <th></th>\n",
       "      <th></th>\n",
       "      <th></th>\n",
       "      <th></th>\n",
       "      <th></th>\n",
       "      <th></th>\n",
       "      <th></th>\n",
       "    </tr>\n",
       "  </thead>\n",
       "  <tbody>\n",
       "    <tr>\n",
       "      <th>1</th>\n",
       "      <td>0.000000</td>\n",
       "      <td>89.258999</td>\n",
       "      <td>8.826128</td>\n",
       "      <td>1.914872</td>\n",
       "      <td>7.990587</td>\n",
       "      <td>8.007841</td>\n",
       "      <td>8.213929</td>\n",
       "      <td>8.713958</td>\n",
       "      <td>9.148314</td>\n",
       "      <td>8.507671</td>\n",
       "      <td>...</td>\n",
       "      <td>7.138905</td>\n",
       "      <td>9.602345</td>\n",
       "      <td>8.982284</td>\n",
       "      <td>8.246594</td>\n",
       "      <td>9.580186</td>\n",
       "      <td>8.890265</td>\n",
       "      <td>10.085061</td>\n",
       "      <td>9.956785</td>\n",
       "      <td>9.518253</td>\n",
       "      <td>9.672941</td>\n",
       "    </tr>\n",
       "    <tr>\n",
       "      <th>2</th>\n",
       "      <td>40.404040</td>\n",
       "      <td>86.133535</td>\n",
       "      <td>7.573422</td>\n",
       "      <td>6.293043</td>\n",
       "      <td>7.797440</td>\n",
       "      <td>8.675696</td>\n",
       "      <td>8.350822</td>\n",
       "      <td>8.961851</td>\n",
       "      <td>8.560271</td>\n",
       "      <td>9.180726</td>\n",
       "      <td>...</td>\n",
       "      <td>7.269916</td>\n",
       "      <td>9.739238</td>\n",
       "      <td>8.394240</td>\n",
       "      <td>8.312500</td>\n",
       "      <td>9.646092</td>\n",
       "      <td>9.563320</td>\n",
       "      <td>10.221955</td>\n",
       "      <td>10.087797</td>\n",
       "      <td>10.191308</td>\n",
       "      <td>10.340796</td>\n",
       "    </tr>\n",
       "    <tr>\n",
       "      <th>3</th>\n",
       "      <td>80.808081</td>\n",
       "      <td>81.017958</td>\n",
       "      <td>15.073506</td>\n",
       "      <td>3.908536</td>\n",
       "      <td>8.045334</td>\n",
       "      <td>8.087653</td>\n",
       "      <td>8.481834</td>\n",
       "      <td>8.861135</td>\n",
       "      <td>8.626177</td>\n",
       "      <td>9.317619</td>\n",
       "      <td>...</td>\n",
       "      <td>7.076769</td>\n",
       "      <td>9.870250</td>\n",
       "      <td>8.460147</td>\n",
       "      <td>8.094631</td>\n",
       "      <td>9.428224</td>\n",
       "      <td>9.700213</td>\n",
       "      <td>10.352966</td>\n",
       "      <td>9.894650</td>\n",
       "      <td>10.328201</td>\n",
       "      <td>9.752753</td>\n",
       "    </tr>\n",
       "    <tr>\n",
       "      <th>4</th>\n",
       "      <td>121.212121</td>\n",
       "      <td>53.708822</td>\n",
       "      <td>22.293245</td>\n",
       "      <td>23.997933</td>\n",
       "      <td>7.944618</td>\n",
       "      <td>8.153559</td>\n",
       "      <td>8.288687</td>\n",
       "      <td>7.765598</td>\n",
       "      <td>8.408308</td>\n",
       "      <td>9.448631</td>\n",
       "      <td>...</td>\n",
       "      <td>7.324663</td>\n",
       "      <td>9.677103</td>\n",
       "      <td>8.242278</td>\n",
       "      <td>8.767686</td>\n",
       "      <td>10.101278</td>\n",
       "      <td>9.831225</td>\n",
       "      <td>10.159820</td>\n",
       "      <td>10.142543</td>\n",
       "      <td>10.459213</td>\n",
       "      <td>9.818659</td>\n",
       "    </tr>\n",
       "    <tr>\n",
       "      <th>5</th>\n",
       "      <td>161.616162</td>\n",
       "      <td>95.673681</td>\n",
       "      <td>1.544781</td>\n",
       "      <td>2.781538</td>\n",
       "      <td>6.849081</td>\n",
       "      <td>7.935690</td>\n",
       "      <td>8.536581</td>\n",
       "      <td>9.332598</td>\n",
       "      <td>9.081363</td>\n",
       "      <td>9.255484</td>\n",
       "      <td>...</td>\n",
       "      <td>7.223947</td>\n",
       "      <td>9.924997</td>\n",
       "      <td>8.915332</td>\n",
       "      <td>8.904579</td>\n",
       "      <td>10.238171</td>\n",
       "      <td>9.638078</td>\n",
       "      <td>10.407713</td>\n",
       "      <td>10.041827</td>\n",
       "      <td>10.266066</td>\n",
       "      <td>9.600790</td>\n",
       "    </tr>\n",
       "  </tbody>\n",
       "</table>\n",
       "<p>5 rows × 45 columns</p>\n",
       "</div>"
      ],
      "text/plain": [
       "              Wn       Mol%       Sur%       Mix%    400 nm    405 nm  \\\n",
       "mode                                                                    \n",
       "1       0.000000  89.258999   8.826128   1.914872  7.990587  8.007841   \n",
       "2      40.404040  86.133535   7.573422   6.293043  7.797440  8.675696   \n",
       "3      80.808081  81.017958  15.073506   3.908536  8.045334  8.087653   \n",
       "4     121.212121  53.708822  22.293245  23.997933  7.944618  8.153559   \n",
       "5     161.616162  95.673681   1.544781   2.781538  6.849081  7.935690   \n",
       "\n",
       "        410 nm    415 nm    420 nm    425 nm  ...    555 nm    560 nm  \\\n",
       "mode                                          ...                       \n",
       "1     8.213929  8.713958  9.148314  8.507671  ...  7.138905  9.602345   \n",
       "2     8.350822  8.961851  8.560271  9.180726  ...  7.269916  9.739238   \n",
       "3     8.481834  8.861135  8.626177  9.317619  ...  7.076769  9.870250   \n",
       "4     8.288687  7.765598  8.408308  9.448631  ...  7.324663  9.677103   \n",
       "5     8.536581  9.332598  9.081363  9.255484  ...  7.223947  9.924997   \n",
       "\n",
       "        565 nm    570 nm     575 nm    580 nm     585 nm     590 nm  \\\n",
       "mode                                                                  \n",
       "1     8.982284  8.246594   9.580186  8.890265  10.085061   9.956785   \n",
       "2     8.394240  8.312500   9.646092  9.563320  10.221955  10.087797   \n",
       "3     8.460147  8.094631   9.428224  9.700213  10.352966   9.894650   \n",
       "4     8.242278  8.767686  10.101278  9.831225  10.159820  10.142543   \n",
       "5     8.915332  8.904579  10.238171  9.638078  10.407713  10.041827   \n",
       "\n",
       "         595 nm     600 nm  \n",
       "mode                        \n",
       "1      9.518253   9.672941  \n",
       "2     10.191308  10.340796  \n",
       "3     10.328201   9.752753  \n",
       "4     10.459213   9.818659  \n",
       "5     10.266066   9.600790  \n",
       "\n",
       "[5 rows x 45 columns]"
      ]
     },
     "execution_count": 203,
     "metadata": {},
     "output_type": "execute_result"
    }
   ],
   "source": [
    "for nm in range(400, 601, 5):\n",
    "    start = np.random.randint(0, 10)\n",
    "    multi = np.random.rand()*(nm - 399)*1000\n",
    "    spec = np.concatenate((fakespec['Intensity'].values[start:], fakespec['Intensity'].values[:start]))*multi\n",
    "    fakedf['{} nm'.format(nm)] = np.log10(spec)\n",
    "fakedf.head()"
   ]
  },
  {
   "cell_type": "code",
   "execution_count": 204,
   "metadata": {
    "ExecuteTime": {
     "end_time": "2019-06-13T20:07:59.130649Z",
     "start_time": "2019-06-13T20:07:59.125852Z"
    }
   },
   "outputs": [],
   "source": [
    "nm_cols = [col for col in fakedf.columns if 'nm' in col]"
   ]
  },
  {
   "cell_type": "code",
   "execution_count": 207,
   "metadata": {
    "ExecuteTime": {
     "end_time": "2019-06-13T20:08:38.294377Z",
     "start_time": "2019-06-13T20:08:37.189733Z"
    }
   },
   "outputs": [
    {
     "data": {
      "text/plain": [
       "<matplotlib.axes._subplots.AxesSubplot at 0x1a2d4fc470>"
      ]
     },
     "execution_count": 207,
     "metadata": {},
     "output_type": "execute_result"
    },
    {
     "data": {
      "image/png": "[encoded data removed]",
      "text/plain": [
       "<Figure size 1080x864 with 2 Axes>"
      ]
     },
     "metadata": {
      "needs_background": "light"
     },
     "output_type": "display_data"
    }
   ],
   "source": [
    "plt.figure(figsize=(15, 12))\n",
    "sns.heatmap(fakedf[nm_cols][(fakedf['Mol%'] > 85) & (fakedf['Sur%'] < 10)], cmap='magma')"
   ]
  },
  {
   "cell_type": "code",
   "execution_count": null,
   "metadata": {},
   "outputs": [],
   "source": []
  }
 ],
 "metadata": {
  "kernelspec": {
   "display_name": "Python 3",
   "language": "python",
   "name": "python3"
  },
  "language_info": {
   "codemirror_mode": {
    "name": "ipython",
    "version": 3
   },
   "file_extension": ".py",
   "mimetype": "text/x-python",
   "name": "python",
   "nbconvert_exporter": "python",
   "pygments_lexer": "ipython3",
   "version": "3.7.3"
  }
 },
 "nbformat": 4,
 "nbformat_minor": 2
}
